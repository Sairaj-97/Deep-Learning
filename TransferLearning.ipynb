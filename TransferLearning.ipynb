{
  "nbformat": 4,
  "nbformat_minor": 0,
  "metadata": {
    "colab": {
      "provenance": [],
      "gpuType": "T4",
      "authorship_tag": "ABX9TyOua+/LiVxtT8iQ5rYHz318",
      "include_colab_link": true
    },
    "kernelspec": {
      "name": "python3",
      "display_name": "Python 3"
    },
    "language_info": {
      "name": "python"
    },
    "accelerator": "GPU"
  },
  "cells": [
    {
      "cell_type": "markdown",
      "metadata": {
        "id": "view-in-github",
        "colab_type": "text"
      },
      "source": [
        "<a href=\"https://colab.research.google.com/github/Sairaj-97/Deep-Learning/blob/main/TransferLearning.ipynb\" target=\"_parent\"><img src=\"https://colab.research.google.com/assets/colab-badge.svg\" alt=\"Open In Colab\"/></a>"
      ]
    },
    {
      "cell_type": "code",
      "execution_count": null,
      "metadata": {
        "id": "LYFDmo-RkS68"
      },
      "outputs": [],
      "source": []
    },
    {
      "cell_type": "code",
      "execution_count": 10,
      "metadata": {
        "id": "zX1o3QzEG5qU"
      },
      "outputs": [],
      "source": [
        "import tensorflow as tf\n",
        "import tensorflow_datasets as tfds\n",
        "import numpy as np\n",
        "from tensorflow import keras"
      ]
    },
    {
      "cell_type": "code",
      "source": [
        "(ds_train,ds_test),ds_info = tfds.load(\n",
        "    'tf_flowers',\n",
        "    split=['train[:80%]','train[80%:]'],\n",
        "    with_info=True,\n",
        "    as_supervised=True\n",
        ")"
      ],
      "metadata": {
        "id": "8htbn5UTHADF"
      },
      "execution_count": null,
      "outputs": []
    },
    {
      "cell_type": "code",
      "source": [
        "print(ds_info)"
      ],
      "metadata": {
        "id": "1vBxxgu5a_B8"
      },
      "execution_count": null,
      "outputs": []
    },
    {
      "cell_type": "code",
      "source": [
        "for image, label in ds_train.take(1):\n",
        "    print(\"Image shape:\", image.shape)\n",
        "    print(\"Label:\", label)"
      ],
      "metadata": {
        "id": "4viyuqcBHOO8"
      },
      "execution_count": null,
      "outputs": []
    },
    {
      "cell_type": "code",
      "source": [
        "# Preprocessing function for resizing and normalizing images\n",
        "def preprocess(image, label):\n",
        "    # Resize the input image to 128x128 pixels\n",
        "    # (This ensures all images have the same shape for CNN input)\n",
        "    image = tf.image.resize(image, (128, 128))\n",
        "\n",
        "    # Convert image data type from uint8 (0–255) to float32\n",
        "    image = tf.cast(image, tf.float32)\n",
        "\n",
        "    # Normalize pixel values from [0, 255] to [0, 1]\n",
        "    # (This helps the model train faster and perform better)\n",
        "    image = image / 255.0\n",
        "\n",
        "    # Return the processed image and its corresponding label\n",
        "    return image, label\n"
      ],
      "metadata": {
        "id": "8ojNwAi9OQFQ"
      },
      "execution_count": 5,
      "outputs": []
    },
    {
      "cell_type": "code",
      "source": [
        "# Apply the preprocessing function to each (image, label) pair in the training dataset\n",
        "# 'map' applies the function and 'num_parallel_calls=AUTOTUNE' uses multiple CPU threads to speed it up\n",
        "ds_train = ds_train.map(preprocess, num_parallel_calls=tf.data.AUTOTUNE)\n",
        "\n",
        "# Prefetching overlaps data preprocessing and model execution for better performance\n",
        "ds_train = ds_train.prefetch(tf.data.AUTOTUNE)\n",
        "\n",
        "# Apply the same preprocessing steps to the test dataset\n",
        "ds_test = ds_test.map(preprocess, num_parallel_calls=tf.data.AUTOTUNE)\n",
        "\n",
        "# Prefetch the test data as well to ensure smooth evaluation\n",
        "ds_test = ds_test.prefetch(tf.data.AUTOTUNE)\n",
        "\n",
        "for image, label in ds_train.take(1):\n",
        "    print(\"Image shape:\", image.shape)\n",
        "    print(\"Label:\", label)\n"
      ],
      "metadata": {
        "id": "Vj0vmOhnPBzS"
      },
      "execution_count": null,
      "outputs": []
    },
    {
      "cell_type": "markdown",
      "source": [
        "#batching is mandatory when using model.fit() in TensorFlow/Keras.\n",
        "\n"
      ],
      "metadata": {
        "id": "NyJb-9EfZs9V"
      }
    },
    {
      "cell_type": "code",
      "source": [
        "ds_train = ds_train.batch(32)\n",
        "ds_test = ds_test.batch(32)"
      ],
      "metadata": {
        "id": "w1kjbBTeZsci"
      },
      "execution_count": 7,
      "outputs": []
    },
    {
      "cell_type": "markdown",
      "source": [
        "#loading existing trained model"
      ],
      "metadata": {
        "id": "E5-2ZupMkwv_"
      }
    },
    {
      "cell_type": "code",
      "source": [
        "base_model = tf.keras.applications.MobileNetV2(input_shape=(128, 128, 3),\n",
        "                                               include_top=False,\n",
        "                                               weights='imagenet')"
      ],
      "metadata": {
        "id": "DCaksdK8ksNr"
      },
      "execution_count": null,
      "outputs": []
    },
    {
      "cell_type": "markdown",
      "source": [
        "#freeze the training of this base model"
      ],
      "metadata": {
        "id": "ZbjuzTeHlNh9"
      }
    },
    {
      "cell_type": "code",
      "source": [
        "base_model.trainable=False"
      ],
      "metadata": {
        "id": "oWI2w8mKlHPm"
      },
      "execution_count": 9,
      "outputs": []
    },
    {
      "cell_type": "markdown",
      "source": [
        "#making our dense layers and attaching the pretrained model"
      ],
      "metadata": {
        "id": "wJYn38EslY0q"
      }
    },
    {
      "cell_type": "code",
      "source": [
        "inputs = keras.Input(shape=(128, 128, 3))\n",
        "# We make sure that the base_model is running in inference mode here,\n",
        "# by passing `training=False`. This is important for fine-tuning, as you will\n",
        "# learn in a few paragraphs.\n",
        "x = base_model(inputs, training=False)\n",
        "# Convert features of shape `base_model.output_shape[1:]` to vectors\n",
        "x = keras.layers.MaxPool2D()(x)\n",
        "# Flatten the output before the dense layer\n",
        "x = keras.layers.Flatten()(x)\n",
        "# A Dense classifier with a single unit (binary classification)\n",
        "outputs = keras.layers.Dense(5,activation=\"softmax\")(x)\n",
        "model = keras.Model(inputs, outputs)"
      ],
      "metadata": {
        "id": "s4qiqkUSlTqw"
      },
      "execution_count": 14,
      "outputs": []
    },
    {
      "cell_type": "code",
      "source": [
        "model.compile(\n",
        "    optimizer=\"adam\",\n",
        "    loss=\"sparse_categorical_crossentropy\",\n",
        "    metrics=[\"accuracy\"]\n",
        ")"
      ],
      "metadata": {
        "id": "y2VPSaj5l77i"
      },
      "execution_count": 15,
      "outputs": []
    },
    {
      "cell_type": "code",
      "source": [
        "model.fit(ds_train,epochs=5)"
      ],
      "metadata": {
        "id": "pUV40nNcmKzO"
      },
      "execution_count": null,
      "outputs": []
    },
    {
      "cell_type": "code",
      "source": [
        "loss,accuracy=model.evaluate(ds_test)"
      ],
      "metadata": {
        "colab": {
          "base_uri": "https://localhost:8080/"
        },
        "id": "FTK1ej4-mPI8",
        "outputId": "6bacceca-1202-4e74-d6a1-9de36708751d"
      },
      "execution_count": 18,
      "outputs": [
        {
          "output_type": "stream",
          "name": "stdout",
          "text": [
            "\u001b[1m23/23\u001b[0m \u001b[32m━━━━━━━━━━━━━━━━━━━━\u001b[0m\u001b[37m\u001b[0m \u001b[1m8s\u001b[0m 201ms/step - accuracy: 0.8667 - loss: 0.5682\n"
          ]
        }
      ]
    },
    {
      "cell_type": "code",
      "source": [
        "print(accuracy)"
      ],
      "metadata": {
        "id": "oYL7p8KjmpJb"
      },
      "execution_count": null,
      "outputs": []
    },
    {
      "cell_type": "code",
      "source": [],
      "metadata": {
        "id": "ladmt9lXmwIq"
      },
      "execution_count": null,
      "outputs": []
    }
  ]
}